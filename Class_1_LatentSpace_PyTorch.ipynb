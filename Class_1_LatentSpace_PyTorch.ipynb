{
  "cells": [
    {
      "cell_type": "markdown",
      "metadata": {
        "colab_type": "text",
        "id": "view-in-github"
      },
      "source": [
        "<a href=\"https://colab.research.google.com/github/vijaygwu/SEAS8525/blob/main/Class_1_LatentSpace_PyTorch.ipynb\" target=\"_parent\"><img src=\"https://colab.research.google.com/assets/colab-badge.svg\" alt=\"Open In Colab\"/></a>"
      ]
    },
    {
      "cell_type": "markdown",
      "metadata": {
        "id": "MXble1sY6GuN"
      },
      "source": [
        "The provided code defines and utilizes an Autoencoder neural network for the MNIST dataset. Here's a detailed explanation:\n",
        "\n",
        "- **Autoencoder Class**: This class creates a neural network with encoder and decoder components. The encoder compresses the input image into a lower-dimensional latent space, and the decoder reconstructs the image from this latent space. The network is structured to flatten and process 28x28 grayscale MNIST images.\n",
        "\n",
        "- **Data Loading**: Utilizes PyTorch's DataLoader to efficiently load the MNIST dataset, applying transformations to normalize the images.\n",
        "\n",
        "- **Training Loop**: Iterates over the training dataset, feeding batches of images through the model, calculating the reconstruction loss, and updating the model's weights to minimize this loss, effectively learning to compress and reconstruct the input images.\n",
        "\n",
        "- **Visualization**: After training, the script visualizes a batch of original images and their reconstructions from the autoencoder. It also prints the latent space representations, showcasing what the model has learned to encode.\n",
        "\n",
        "- **Utility Functions**: Includes `imshow` for displaying tensors as images. It unnormalizes the data and uses Matplotlib to plot them.\n",
        "\n",
        "This script encapsulates the end-to-end process of training an autoencoder on the MNIST dataset, visualizing the results, and examining the learned latent space."
      ]
    },
    {
      "cell_type": "code",
      "execution_count": 3,
      "metadata": {
        "id": "QTp8sYxwBg-1"
      },
      "outputs": [],
      "source": [
        "import torch\n",
        "import torch.nn as nn\n",
        "import torchvision\n",
        "import torchvision.transforms as transforms\n",
        "from torchvision.datasets import MNIST\n",
        "from torch.utils.data import DataLoader\n",
        "import matplotlib.pyplot as plt\n",
        "import torchvision.utils as vutils\n",
        "import numpy as np\n",
        "from torch.cuda.amp import GradScaler, autocast"
      ]
    },
    {
      "cell_type": "markdown",
      "metadata": {
        "id": "Lth1Gula4Sz_"
      },
      "source": [
        " The `Autoencoder` class inherits from `nn.Module`, a base class for all neural network modules in PyTorch. Here's a breakdown of the code and its functionality:\n",
        "\n",
        "### Initialization Method (`__init__`)\n",
        "- **Parameters**: The `__init__` method accepts a single parameter `encoding_dim`, which specifies the size of the latent space where the input data is compressed.\n",
        "- **Encoder**: The encoder part of the autoencoder is designed to compress the input data (in this case, an image) into a lower-dimensional representation called the latent space. It consists of a sequence of layers:\n",
        "  - `nn.Linear(28 * 28, 128)`: This layer flattens the input image (assumed to be 28x28 pixels, typical for MNIST dataset images) into a one-dimensional array and performs a linear transformation to reduce its dimension to 128.\n",
        "  - `nn.ReLU(True)`: A Rectified Linear Unit (ReLU) activation function is applied to introduce non-linearity, helping the model learn complex patterns.\n",
        "  - Another `nn.Linear(128, encoding_dim)`: Further reduces the dimension from 128 to the specified `encoding_dim`.\n",
        "  - Another `nn.ReLU(True)`: Another ReLU activation for non-linearity.\n",
        "- **Decoder**: The decoder part reconstructs the original input data from the compressed representation. It mirrors the encoder structure but in reverse, aiming to expand the compressed data back to its original shape:\n",
        "  - `nn.Linear(encoding_dim, 128)`: Expands the compressed data from `encoding_dim` back to 128.\n",
        "  - `nn.ReLU(True)`: Applies ReLU activation.\n",
        "  - `nn.Linear(128, 28 * 28)`: Transforms the data from 128 back to the flattened image size of 784 (28x28).\n",
        "  - `nn.Sigmoid()`: Applies a sigmoid activation function to ensure the output values are between 0 and 1, suitable for image data where pixel values typically fall within this range.\n",
        "\n",
        "### Forward Method (`forward`)\n",
        "- **Parameter**: The `forward` method defines how the input `x` flows through the network.\n",
        "- **Process**:\n",
        "  - `x.view(-1, 28*28)`: First, the input `x` is reshaped into a one-dimensional array (flattened) if not already done.\n",
        "  - `self.encoder(x)`: The flattened `x` is then passed through the encoder.\n",
        "  - `self.decoder(x)`: The output from the encoder, which is the compressed representation, is fed into the decoder.\n",
        "- **Output**: The final output is reshaped back to the original image dimensions (`-1, 1, 28, 28`), where `-1` is a placeholder that automatically adjusts based on the batch size.\n"
      ]
    },
    {
      "cell_type": "code",
      "execution_count": 4,
      "metadata": {
        "id": "wWlX07fEBjL8"
      },
      "outputs": [],
      "source": [
        "class Autoencoder(nn.Module):\n",
        "    def __init__(self, encoding_dim):\n",
        "        super(Autoencoder, self).__init__()\n",
        "        # Encoder: compresses the image into a lower-dimensional latent space\n",
        "        self.encoder = nn.Sequential(\n",
        "            nn.Linear(28 * 28, 128),  # Flatten the image and then linearly transform it\n",
        "            nn.ReLU(True),  # Non-linear activation function\n",
        "            nn.Linear(128, encoding_dim),  # Linear transformation to the encoding dimension\n",
        "            nn.ReLU(True)  # Non-linear activation function\n",
        "        )\n",
        "        # Decoder: reconstructs the image from the latent space\n",
        "        self.decoder = nn.Sequential(\n",
        "            nn.Linear(encoding_dim, 128),  # Linearly transforms the encoding\n",
        "            nn.ReLU(True),  # Non-linear activation function\n",
        "            nn.Linear(128, 28 * 28),  # Transforms back to original image shape\n",
        "            nn.Sigmoid()  # Sigmoid activation to output values between 0 and 1\n",
        "        )\n",
        "\n",
        "    def forward(self, x):\n",
        "        x = self.encoder(x.view(-1, 28*28))  # Encode the input image\n",
        "        x = self.decoder(x)  # Decode the encoded image\n",
        "        return x.view(-1, 1, 28, 28)  # Reshape to the original image dimensions"
      ]
    },
    {
      "cell_type": "code",
      "execution_count": 5,
      "metadata": {
        "id": "yP7S8PazBoD5"
      },
      "outputs": [],
      "source": [
        "\n",
        "def imshow(img):\n",
        "    img = img.cpu() / 2 + 0.5  # Unnormalize the image\n",
        "    npimg = img.numpy()  # Convert the tensor to a numpy array\n",
        "    plt.imshow(np.transpose(npimg, (1, 2, 0)))  # Reshape and display the image\n",
        "    plt.show()"
      ]
    },
    {
      "cell_type": "code",
      "execution_count": 6,
      "metadata": {
        "id": "yJAgqh0TBrMa"
      },
      "outputs": [],
      "source": [
        "# Transform: converts images to PyTorch tensors and normalizes them\n",
        "transform = transforms.Compose([\n",
        "    transforms.ToTensor(),\n",
        "    transforms.Normalize((0.5,), (0.5,))\n",
        "])\n"
      ]
    },
    {
      "cell_type": "code",
      "execution_count": 7,
      "metadata": {
        "colab": {
          "base_uri": "https://localhost:8080/"
        },
        "id": "cQpswSgnBw4E",
        "outputId": "0610dd3f-cea8-4c56-9460-cd1b4496e875"
      },
      "outputs": [
        {
          "name": "stdout",
          "output_type": "stream",
          "text": [
            "Downloading http://yann.lecun.com/exdb/mnist/train-images-idx3-ubyte.gz\n",
            "Failed to download (trying next):\n",
            "HTTP Error 403: Forbidden\n",
            "\n",
            "Downloading https://ossci-datasets.s3.amazonaws.com/mnist/train-images-idx3-ubyte.gz\n",
            "Downloading https://ossci-datasets.s3.amazonaws.com/mnist/train-images-idx3-ubyte.gz to ./data/MNIST/raw/train-images-idx3-ubyte.gz\n"
          ]
        },
        {
          "name": "stderr",
          "output_type": "stream",
          "text": [
            "100.0%\n"
          ]
        },
        {
          "name": "stdout",
          "output_type": "stream",
          "text": [
            "Extracting ./data/MNIST/raw/train-images-idx3-ubyte.gz to ./data/MNIST/raw\n",
            "\n",
            "Downloading http://yann.lecun.com/exdb/mnist/train-labels-idx1-ubyte.gz\n",
            "Failed to download (trying next):\n",
            "HTTP Error 403: Forbidden\n",
            "\n",
            "Downloading https://ossci-datasets.s3.amazonaws.com/mnist/train-labels-idx1-ubyte.gz\n",
            "Downloading https://ossci-datasets.s3.amazonaws.com/mnist/train-labels-idx1-ubyte.gz to ./data/MNIST/raw/train-labels-idx1-ubyte.gz\n"
          ]
        },
        {
          "name": "stderr",
          "output_type": "stream",
          "text": [
            "100.0%\n"
          ]
        },
        {
          "name": "stdout",
          "output_type": "stream",
          "text": [
            "Extracting ./data/MNIST/raw/train-labels-idx1-ubyte.gz to ./data/MNIST/raw\n",
            "\n",
            "Downloading http://yann.lecun.com/exdb/mnist/t10k-images-idx3-ubyte.gz\n",
            "Failed to download (trying next):\n",
            "HTTP Error 403: Forbidden\n",
            "\n",
            "Downloading https://ossci-datasets.s3.amazonaws.com/mnist/t10k-images-idx3-ubyte.gz\n",
            "Downloading https://ossci-datasets.s3.amazonaws.com/mnist/t10k-images-idx3-ubyte.gz to ./data/MNIST/raw/t10k-images-idx3-ubyte.gz\n"
          ]
        },
        {
          "name": "stderr",
          "output_type": "stream",
          "text": [
            "100.0%\n"
          ]
        },
        {
          "name": "stdout",
          "output_type": "stream",
          "text": [
            "Extracting ./data/MNIST/raw/t10k-images-idx3-ubyte.gz to ./data/MNIST/raw\n",
            "\n",
            "Downloading http://yann.lecun.com/exdb/mnist/t10k-labels-idx1-ubyte.gz\n",
            "Failed to download (trying next):\n",
            "HTTP Error 403: Forbidden\n",
            "\n",
            "Downloading https://ossci-datasets.s3.amazonaws.com/mnist/t10k-labels-idx1-ubyte.gz\n",
            "Downloading https://ossci-datasets.s3.amazonaws.com/mnist/t10k-labels-idx1-ubyte.gz to ./data/MNIST/raw/t10k-labels-idx1-ubyte.gz\n"
          ]
        },
        {
          "name": "stderr",
          "output_type": "stream",
          "text": [
            "100.0%"
          ]
        },
        {
          "name": "stdout",
          "output_type": "stream",
          "text": [
            "Extracting ./data/MNIST/raw/t10k-labels-idx1-ubyte.gz to ./data/MNIST/raw\n",
            "\n"
          ]
        },
        {
          "name": "stderr",
          "output_type": "stream",
          "text": [
            "\n"
          ]
        }
      ],
      "source": [
        "# MNIST dataset loading\n",
        "train_dataset = MNIST(root='./data', train=True, download=True, transform=transform)\n",
        "train_loader = DataLoader(dataset=train_dataset, batch_size=64, shuffle=True)"
      ]
    },
    {
      "cell_type": "code",
      "execution_count": 8,
      "metadata": {
        "id": "W8NemtCtB35p"
      },
      "outputs": [],
      "source": [
        "device = torch.device(\"cuda\" if torch.cuda.is_available() else \"cpu\")\n",
        "model = Autoencoder(encoding_dim=64).to(device)\n",
        "criterion = nn.MSELoss()  # Loss function\n",
        "optimizer = torch.optim.Adam(model.parameters(), lr=1e-3)  # Optimizer"
      ]
    },
    {
      "cell_type": "code",
      "execution_count": 9,
      "metadata": {
        "colab": {
          "base_uri": "https://localhost:8080/"
        },
        "id": "GRk72snY6LPD",
        "outputId": "c54b114d-fd45-40c1-a235-f3a24804748f"
      },
      "outputs": [
        {
          "name": "stderr",
          "output_type": "stream",
          "text": [
            "/var/folders/5w/kf5wxfk51b5bhqls5wny2zf40000gn/T/ipykernel_7702/1361577664.py:3: FutureWarning: `torch.cuda.amp.GradScaler(args...)` is deprecated. Please use `torch.amp.GradScaler('cuda', args...)` instead.\n",
            "  scaler = GradScaler()\n",
            "/Users/haidinh/SEAS8525_notebooke/.venv/lib/python3.12/site-packages/torch/amp/grad_scaler.py:132: UserWarning: torch.cuda.amp.GradScaler is enabled, but CUDA is not available.  Disabling.\n",
            "  warnings.warn(\n",
            "/var/folders/5w/kf5wxfk51b5bhqls5wny2zf40000gn/T/ipykernel_7702/1361577664.py:10: FutureWarning: `torch.cuda.amp.autocast(args...)` is deprecated. Please use `torch.amp.autocast('cuda', args...)` instead.\n",
            "  with autocast():\n",
            "/Users/haidinh/SEAS8525_notebooke/.venv/lib/python3.12/site-packages/torch/amp/autocast_mode.py:265: UserWarning: User provided device_type of 'cuda', but CUDA is not available. Disabling\n",
            "  warnings.warn(\n"
          ]
        },
        {
          "name": "stdout",
          "output_type": "stream",
          "text": [
            "Epoch [1/10], Loss:0.9261\n",
            "Epoch [2/10], Loss:0.9235\n",
            "Epoch [3/10], Loss:0.9295\n",
            "Epoch [4/10], Loss:0.9221\n",
            "Epoch [5/10], Loss:0.9267\n",
            "Epoch [6/10], Loss:0.9252\n",
            "Epoch [7/10], Loss:0.9250\n",
            "Epoch [8/10], Loss:0.9233\n",
            "Epoch [9/10], Loss:0.9310\n",
            "Epoch [10/10], Loss:0.9207\n"
          ]
        }
      ],
      "source": [
        "# Training loop\n",
        "num_epochs = 10\n",
        "scaler = GradScaler()\n",
        "\n",
        "for epoch in range(num_epochs):\n",
        "    for data in train_loader:\n",
        "        img, _ = data\n",
        "        img = img.to(device)\n",
        "\n",
        "        with autocast():\n",
        "            output = model(img)\n",
        "            loss = criterion(output, img)\n",
        "\n",
        "        optimizer.zero_grad()\n",
        "        scaler.scale(loss).backward()\n",
        "        scaler.step(optimizer)\n",
        "        scaler.update()\n",
        "    print('Epoch [{}/{}], Loss:{:.4f}'.format(epoch+1, num_epochs, loss.item()))\n",
        "\n",
        "\n"
      ]
    },
    {
      "cell_type": "code",
      "execution_count": 13,
      "metadata": {
        "colab": {
          "base_uri": "https://localhost:8080/",
          "height": 1000
        },
        "id": "FCsJeFk2B2Fi",
        "outputId": "8b34d294-ea9a-4a44-d871-fe729879a530"
      },
      "outputs": [
        {
          "name": "stdout",
          "output_type": "stream",
          "text": [
            "Original Images\n"
          ]
        },
        {
          "data": {
            "image/png": "[encoded data removed]",
            "text/plain": [
              "<Figure size 640x480 with 1 Axes>"
            ]
          },
          "metadata": {},
          "output_type": "display_data"
        },
        {
          "name": "stdout",
          "output_type": "stream",
          "text": [
            "Reconstructed Representation\n",
            "tensor([[[[6.1653e-14, 4.6974e-18, 4.7251e-15,  ..., 1.7010e-24,\n",
            "           2.8488e-20, 2.3718e-09],\n",
            "          [3.3593e-17, 2.4634e-15, 2.2715e-16,  ..., 2.1160e-14,\n",
            "           2.4519e-15, 1.1637e-17],\n",
            "          [2.8330e-16, 7.0300e-25, 1.2295e-08,  ..., 5.7217e-14,\n",
            "           1.2532e-15, 2.5913e-17],\n",
            "          ...,\n",
            "          [9.3442e-16, 1.2122e-14, 1.6936e-11,  ..., 7.4604e-17,\n",
            "           1.8088e-12, 1.9308e-14],\n",
            "          [6.2164e-13, 1.7833e-11, 3.6121e-15,  ..., 4.2434e-15,\n",
            "           2.4324e-17, 1.5549e-15],\n",
            "          [4.7094e-18, 4.0670e-21, 6.0965e-20,  ..., 1.9455e-21,\n",
            "           1.3710e-20, 6.4240e-13]]],\n",
            "\n",
            "\n",
            "        [[[5.1267e-14, 3.7407e-18, 3.8438e-15,  ..., 1.2344e-24,\n",
            "           2.1050e-20, 2.0978e-09],\n",
            "          [2.6316e-17, 1.9753e-15, 1.7771e-16,  ..., 1.8294e-14,\n",
            "           1.9745e-15, 9.1828e-18],\n",
            "          [2.3045e-16, 5.1073e-25, 1.0841e-08,  ..., 4.8286e-14,\n",
            "           9.7192e-16, 2.1432e-17],\n",
            "          ...,\n",
            "          [7.9041e-16, 9.8627e-15, 1.4690e-11,  ..., 6.0621e-17,\n",
            "           1.4842e-12, 1.6331e-14],\n",
            "          [5.4498e-13, 1.5821e-11, 2.9460e-15,  ..., 3.5419e-15,\n",
            "           1.9608e-17, 1.2743e-15],\n",
            "          [3.7195e-18, 3.0317e-21, 4.5819e-20,  ..., 1.4704e-21,\n",
            "           1.0924e-20, 5.3103e-13]]],\n",
            "\n",
            "\n",
            "        [[[1.4650e-12, 3.5718e-16, 1.5650e-13,  ..., 5.5045e-22,\n",
            "           3.3291e-18, 1.8203e-08],\n",
            "          [1.8302e-15, 8.9738e-14, 1.0377e-14,  ..., 6.2996e-13,\n",
            "           8.6617e-14, 7.0810e-16],\n",
            "          [1.2569e-14, 2.3874e-22, 8.4789e-08,  ..., 1.5434e-12,\n",
            "           4.2303e-14, 1.5169e-15],\n",
            "          ...,\n",
            "          [3.7223e-14, 3.6578e-13, 2.5460e-10,  ..., 3.8453e-15,\n",
            "           3.0531e-11, 5.3592e-13],\n",
            "          [1.2281e-11, 2.7152e-10, 1.2343e-13,  ..., 1.3562e-13,\n",
            "           1.5101e-15, 5.7605e-14],\n",
            "          [3.2988e-16, 5.7836e-19, 6.7475e-18,  ..., 2.9897e-19,\n",
            "           1.9418e-18, 1.2079e-11]]],\n",
            "\n",
            "\n",
            "        [[[7.1357e-13, 1.4065e-16, 7.0661e-14,  ..., 1.5922e-22,\n",
            "           1.0894e-18, 1.2372e-08],\n",
            "          [7.2380e-16, 3.9475e-14, 4.4542e-15,  ..., 3.1117e-13,\n",
            "           4.0014e-14, 2.8210e-16],\n",
            "          [5.6099e-15, 6.8405e-23, 6.0800e-08,  ..., 7.1642e-13,\n",
            "           2.0420e-14, 6.0314e-16],\n",
            "          ...,\n",
            "          [1.7846e-14, 1.8233e-13, 1.3500e-10,  ..., 1.6643e-15,\n",
            "           1.6128e-11, 2.7950e-13],\n",
            "          [6.3372e-12, 1.4452e-10, 6.0663e-14,  ..., 6.4415e-14,\n",
            "           6.1950e-16, 2.5282e-14],\n",
            "          [1.3382e-16, 1.8726e-19, 2.2862e-18,  ..., 9.6653e-20,\n",
            "           6.2117e-19, 6.7540e-12]]]])\n",
            "Latent space representations:\n",
            "tensor([[ 0.0000, 24.3761,  0.0000,  0.0000, 25.5398,  0.0000,  0.0000,  0.0000,\n",
            "         40.0709, 47.0228,  0.0000,  0.0000,  0.0000,  0.0000,  0.0000,  0.0000,\n",
            "         34.7703, 23.8946, 35.5282,  0.0000, 28.6692, 20.8337, 11.5007,  0.0000,\n",
            "          0.0000, 34.3805,  0.0000, 18.7275, 17.6086, 21.4408, 32.7990, 39.2435,\n",
            "          0.0000,  0.0000,  0.0000,  0.0000,  0.0000,  0.0000, 31.3947, 26.5976,\n",
            "          0.0000,  0.0000,  0.0000,  0.0000, 22.8268, 14.9870, 16.5912, 17.5309,\n",
            "          0.0000,  0.0000,  0.0000,  0.0000,  0.0000,  8.0284,  0.0000, 20.5954,\n",
            "          0.0000,  0.0000,  0.0000,  0.0000,  0.0000, 14.1454, 12.5113, 29.8063],\n",
            "        [ 0.0000, 24.5192,  0.0000,  0.0000, 25.6717,  0.0000,  0.0000,  0.0000,\n",
            "         40.0591, 47.2514,  0.0000,  0.0000,  0.0000,  0.0000,  0.0000,  0.0000,\n",
            "         34.8594, 24.2943, 35.7643,  0.0000, 28.8172, 20.8496, 11.6185,  0.0000,\n",
            "          0.0000, 34.5688,  0.0000, 18.9636, 17.5803, 21.3096, 32.8630, 39.6105,\n",
            "          0.0000,  0.0000,  0.0000,  0.0000,  0.0000,  0.0000, 31.7750, 27.0517,\n",
            "          0.0000,  0.0000,  0.0000,  0.0000, 22.9184, 15.0621, 16.6013, 17.7756,\n",
            "          0.0000,  0.0000,  0.0000,  0.0000,  0.0000,  8.0311,  0.0000, 20.7757,\n",
            "          0.0000,  0.0000,  0.0000,  0.0000,  0.0000, 14.1476, 12.4078, 30.0633],\n",
            "        [ 0.0000, 21.8752,  0.0000,  0.0000, 22.4023,  0.0000,  0.0000,  0.0000,\n",
            "         35.3833, 41.7514,  0.0000,  0.0000,  0.0000,  0.0000,  0.0000,  0.0000,\n",
            "         30.8679, 21.9322, 32.2860,  0.0000, 25.4199, 18.7079, 10.8818,  0.0000,\n",
            "          0.0000, 30.2818,  0.0000, 16.1969, 15.6544, 18.9888, 29.7622, 35.0711,\n",
            "          0.0000,  0.0000,  0.0000,  0.0000,  0.0000,  0.0000, 28.0859, 24.0663,\n",
            "          0.0000,  0.0000,  0.0000,  0.0000, 20.2168, 13.5249, 15.1174, 15.6372,\n",
            "          0.0000,  0.0000,  0.0000,  0.0000,  0.0000,  7.5704,  0.0000, 18.5598,\n",
            "          0.0000,  0.0000,  0.0000,  0.0000,  0.0000, 12.3045, 10.7999, 26.7806],\n",
            "        [ 0.0000, 22.6198,  0.0000,  0.0000, 23.2649,  0.0000,  0.0000,  0.0000,\n",
            "         36.5474, 43.2654,  0.0000,  0.0000,  0.0000,  0.0000,  0.0000,  0.0000,\n",
            "         31.9137, 22.1428, 33.0495,  0.0000, 25.9016, 18.8950, 10.3227,  0.0000,\n",
            "          0.0000, 31.5580,  0.0000, 16.9919, 15.8611, 19.5167, 30.3842, 35.7080,\n",
            "          0.0000,  0.0000,  0.0000,  0.0000,  0.0000,  0.0000, 29.4708, 24.8034,\n",
            "          0.0000,  0.0000,  0.0000,  0.0000, 20.6768, 13.5624, 14.7340, 16.0379,\n",
            "          0.0000,  0.0000,  0.0000,  0.0000,  0.0000,  7.2435,  0.0000, 18.9994,\n",
            "          0.0000,  0.0000,  0.0000,  0.0000,  0.0000, 13.1461, 10.9454, 27.9217]])\n"
          ]
        }
      ],
      "source": [
        "# Visualization of the original and reconstructed images\n",
        "dataiter = iter(train_loader)\n",
        "images, _ = next(dataiter)\n",
        "images = images.to(device)\n",
        "\n",
        "# Display original images\n",
        "print(\"Original Images\")\n",
        "imshow(vutils.make_grid(images[:4], normalize=True))\n",
        "\n",
        "# Encoded and decoded images\n",
        "with torch.no_grad():\n",
        "    encoded_imgs = model.encoder(images.view(-1, 28*28)[:4])\n",
        "    decoded_imgs = model.decoder(encoded_imgs).view(-1, 1, 28, 28)\n",
        "\n",
        "\n",
        "# Display reconstructed images\n",
        "print(\"Reconstructed Representation\")\n",
        "print(decoded_imgs)\n",
        "\n",
        "# Print latent space\n",
        "print(\"Latent space representations:\")\n",
        "print(encoded_imgs)"
      ]
    },
    {
      "cell_type": "markdown",
      "metadata": {},
      "source": [
        "---"
      ]
    },
    {
      "cell_type": "markdown",
      "metadata": {},
      "source": [
        "## Summary of the code:\n",
        "- The code defines an Autoencoder class that creates a neural network with encoder and decoder components.\n",
        "- It loads the MNIST dataset using PyTorch's DataLoader and applies transformations to normalize the images.\n",
        "- The training loop iterates over the dataset, feeding batches through the model to minimize the reconstruction loss.\n",
        "- After training, the script visualizes original images and their reconstructions, along with the learned latent space representations.\n",
        "- Note: there seems to be an mistype in the code, where the comment said to 'Display reconstructed images', the variable should be 'decoded_imgs' instead of 'img'\n",
        "## Results explanation:\n",
        "- We first show an image of 4 digits in the dataset.\n",
        "- We then show the reconstructed images from the autoencoder, which are quite similar to the original images.\n",
        "- The latent space representations are printed, showing the compressed form of the input data.\n",
        "- Note: the images is 784 (28 x 28) pixels while the latent space is only 64-dimensional values.\n"
      ]
    }
  ],
  "metadata": {
    "accelerator": "GPU",
    "colab": {
      "authorship_tag": "ABX9TyMsZwOHcs5oJqknukUyr/9r",
      "gpuType": "A100",
      "include_colab_link": true,
      "machine_shape": "hm",
      "provenance": []
    },
    "kernelspec": {
      "display_name": "Python 3",
      "name": "python3"
    },
    "language_info": {
      "codemirror_mode": {
        "name": "ipython",
        "version": 3
      },
      "file_extension": ".py",
      "mimetype": "text/x-python",
      "name": "python",
      "nbconvert_exporter": "python",
      "pygments_lexer": "ipython3",
      "version": "3.12.4"
    }
  },
  "nbformat": 4,
  "nbformat_minor": 0
}
